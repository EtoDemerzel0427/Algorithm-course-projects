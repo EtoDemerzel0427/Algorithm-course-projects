{
 "cells": [
  {
   "cell_type": "markdown",
   "metadata": {},
   "source": [
    "# 最大子段和\n",
    "\n",
    "## 问题描述\n",
    "\n",
    "**最大子段和（Maximum Interval Sum）**： Given possibly negative integers $A_1,A_2,...A_n$, find the maximum value of $\\sum_{k=i}^{j} A_k$. If all integers are negative, we define the maximum interval sum to be 0."
   ]
  },
  {
   "cell_type": "markdown",
   "metadata": {},
   "source": [
    "## 算法实现\n",
    "\n",
    "### 暴力法\n",
    "\n",
    "通过三层循环解决。函数如下："
   ]
  },
  {
   "cell_type": "code",
   "execution_count": 1,
   "metadata": {},
   "outputs": [],
   "source": [
    "def max_inter_loop(int_list):\n",
    "    '''\n",
    "    This function uses 3 loops to sovle the maximum interval sum problem.\n",
    "    \n",
    "    parameter:\n",
    "    \n",
    "    int_list --- the list which stores the integers.\n",
    "    \n",
    "    return:\n",
    "    \n",
    "    max_sum --- the maximum interval sum\n",
    "    '''\n",
    "    \n",
    "    n = len(int_list)\n",
    "    max_sum = 0 # initialize the maximum sum\n",
    "    for i in range(n): # start from int_list[i]\n",
    "        for j in range(i,n): # end at int_list[j]\n",
    "            this_sum = 0\n",
    "            for k in range(i, j+1):\n",
    "                this_sum += int_list[k]\n",
    "                if this_sum > max_sum:\n",
    "                    max_sum = this_sum\n",
    "    \n",
    "    return max_sum\n",
    "\n",
    "\n",
    "        "
   ]
  },
  {
   "cell_type": "code",
   "execution_count": 3,
   "metadata": {},
   "outputs": [
    {
     "name": "stdout",
     "output_type": "stream",
     "text": [
      "the maximium interval sum is 20\n",
      "the maximium interval sum is 0\n"
     ]
    }
   ],
   "source": [
    "# test\n",
    "a = [-2, 11, -4, 13, -5, -2]\n",
    "max_a = max_inter_loop(a)\n",
    "print('the maximium interval sum is', max_a)\n",
    "a = [-1,-2,-3,-4,-5]\n",
    "max_a = max_inter_loop(a)\n",
    "print('the maximium interval sum is', max_a)"
   ]
  },
  {
   "cell_type": "markdown",
   "metadata": {},
   "source": [
    "### 动态规划法"
   ]
  },
  {
   "cell_type": "code",
   "execution_count": null,
   "metadata": {},
   "outputs": [],
   "source": [
    "def max_inter_online(int_list):\n",
    "    '''\n",
    "    This function uses online algorithm to sovle the maximum interval sum problem.\n",
    "    \n",
    "    parameter:\n",
    "    \n",
    "    int_list --- the list which stores the integers.\n",
    "    \n",
    "    return:\n",
    "    \n",
    "    max_sum --- the maximum interval sum\n",
    "    '''\n",
    "    n = len(int_list)\n",
    "    this_sum = 0\n",
    "    max_sum = 0\n",
    "    for j in range(n):\n",
    "        this_sum += int_list[j]\n",
    "        if this_sum > max_sum:\n",
    "            max_sum = this_sum\n",
    "        elif this_sum < 0:\n",
    "            this_sum = 0\n",
    "            \n",
    "    return max_sum"
   ]
  },
  {
   "cell_type": "code",
   "execution_count": 5,
   "metadata": {},
   "outputs": [
    {
     "name": "stdout",
     "output_type": "stream",
     "text": [
      "The maximum interval sum is 20\n"
     ]
    }
   ],
   "source": [
    "# test\n",
    "a = [-2, 11, -4, 13, -5, -2]\n",
    "print('The maximum interval sum is', max_inter_online(a))\n",
    "a = [-1, -2, -3, -4, -5]"
   ]
  },
  {
   "cell_type": "markdown",
   "metadata": {},
   "source": [
    "## Performance measurement\n",
    "\n",
    "按照要求，我们需要对长度N = 100, 500, 1000, 2000, 4000, 6000, 8000, 10000的数组进行测试。"
   ]
  },
  {
   "cell_type": "code",
   "execution_count": 29,
   "metadata": {},
   "outputs": [],
   "source": [
    "import numpy as np\n",
    "\n",
    "data_100 = np.random.randint(-100, 100, size = 100)\n",
    "data_500 = np.random.randint(-100, 100, size = 500)\n",
    "data_1000 = np.random.randint(-100, 100, size = 1000)\n",
    "data_2000 = np.random.randint(-100, 100, size = 2000)\n",
    "data_4000 = np.random.randint(-100, 100, size = 4000)\n",
    "data_6000 = np.random.randint(-100, 100, size = 6000)\n",
    "data_8000 = np.random.randint(-100, 100, size = 8000)\n",
    "data_10000 = np.random.randint(-100, 100, size = 10000)"
   ]
  },
  {
   "cell_type": "code",
   "execution_count": 30,
   "metadata": {},
   "outputs": [],
   "source": [
    "loop_time = []\n",
    "online_time = []"
   ]
  },
  {
   "cell_type": "code",
   "execution_count": 31,
   "metadata": {},
   "outputs": [
    {
     "name": "stdout",
     "output_type": "stream",
     "text": [
      "The time for max_inter_loop is on data_100 is 0.05264091491699219s\n"
     ]
    },
    {
     "data": {
      "text/plain": [
       "[0.05264091491699219]"
      ]
     },
     "execution_count": 31,
     "metadata": {},
     "output_type": "execute_result"
    }
   ],
   "source": [
    "import time\n",
    "\n",
    "tic = time.time()\n",
    "max_sum = max_inter_loop(data_100)\n",
    "toc = time.time()\n",
    "\n",
    "print('The time for max_inter_loop is on data_100 is', str(toc - tic) + 's')\n",
    "\n",
    "loop_time.append(toc - tic)\n",
    "\n",
    "loop_time"
   ]
  },
  {
   "cell_type": "markdown",
   "metadata": {},
   "source": [
    "### The loop version"
   ]
  },
  {
   "cell_type": "code",
   "execution_count": 32,
   "metadata": {},
   "outputs": [
    {
     "name": "stdout",
     "output_type": "stream",
     "text": [
      "The time for max_inter_loop is on data_500 is 4.370685577392578s\n"
     ]
    },
    {
     "data": {
      "text/plain": [
       "[0.05264091491699219, 4.370685577392578]"
      ]
     },
     "execution_count": 32,
     "metadata": {},
     "output_type": "execute_result"
    }
   ],
   "source": [
    "tic = time.time()\n",
    "max_sum = max_inter_loop(data_500)\n",
    "toc = time.time()\n",
    "print('The time for max_inter_loop is on data_500 is', str(toc - tic) + 's')\n",
    "\n",
    "loop_time.append(toc - tic)\n",
    "loop_time"
   ]
  },
  {
   "cell_type": "code",
   "execution_count": 33,
   "metadata": {},
   "outputs": [
    {
     "name": "stdout",
     "output_type": "stream",
     "text": [
      "The time for max_inter_loop is on data_1000 is 33.141884565353394s\n"
     ]
    },
    {
     "data": {
      "text/plain": [
       "[0.05264091491699219, 4.370685577392578, 33.141884565353394]"
      ]
     },
     "execution_count": 33,
     "metadata": {},
     "output_type": "execute_result"
    }
   ],
   "source": [
    "tic = time.time()\n",
    "max_sum = max_inter_loop(data_1000)\n",
    "toc = time.time()\n",
    "print('The time for max_inter_loop is on data_1000 is', str(toc - tic) + 's')\n",
    "\n",
    "loop_time.append(toc - tic)\n",
    "loop_time"
   ]
  },
  {
   "cell_type": "code",
   "execution_count": 34,
   "metadata": {},
   "outputs": [
    {
     "name": "stdout",
     "output_type": "stream",
     "text": [
      "The time for max_inter_loop is on data_2000 is 279.7063784599304s\n"
     ]
    },
    {
     "data": {
      "text/plain": [
       "[0.05264091491699219, 4.370685577392578, 33.141884565353394, 279.7063784599304]"
      ]
     },
     "execution_count": 34,
     "metadata": {},
     "output_type": "execute_result"
    }
   ],
   "source": [
    "tic = time.time()\n",
    "max_sum = max_inter_loop(data_2000)\n",
    "toc = time.time()\n",
    "print('The time for max_inter_loop is on data_2000 is', str(toc - tic) + 's')\n",
    "\n",
    "loop_time.append(toc - tic)\n",
    "loop_time"
   ]
  },
  {
   "cell_type": "markdown",
   "metadata": {},
   "source": [
    "### The online version"
   ]
  },
  {
   "cell_type": "code",
   "execution_count": 68,
   "metadata": {},
   "outputs": [],
   "source": [
    "online_time = []"
   ]
  },
  {
   "cell_type": "code",
   "execution_count": 69,
   "metadata": {
    "scrolled": true
   },
   "outputs": [
    {
     "name": "stdout",
     "output_type": "stream",
     "text": [
      "The time for max_inter_loop is on data_100 is 3.9116621017456056e-05s\n"
     ]
    },
    {
     "data": {
      "text/plain": [
       "[3.9116621017456056e-05]"
      ]
     },
     "execution_count": 69,
     "metadata": {},
     "output_type": "execute_result"
    }
   ],
   "source": [
    "tic = time.time()\n",
    "for i in range(1000):\n",
    "    max_sum = max_inter_online(data_100)\n",
    "toc = time.time()\n",
    "print('The time for max_inter_loop is on data_100 is', str((toc - tic)/1000) + 's')\n",
    "\n",
    "online_time.append((toc - tic)/1000)\n",
    "online_time"
   ]
  },
  {
   "cell_type": "code",
   "execution_count": 70,
   "metadata": {},
   "outputs": [
    {
     "name": "stdout",
     "output_type": "stream",
     "text": [
      "The time for max_inter_loop is on data_500 is 0.00019050860404968263s\n"
     ]
    },
    {
     "data": {
      "text/plain": [
       "[3.9116621017456056e-05, 0.00019050860404968263]"
      ]
     },
     "execution_count": 70,
     "metadata": {},
     "output_type": "execute_result"
    }
   ],
   "source": [
    "tic = time.time()\n",
    "for i in range(1000):\n",
    "    max_sum = max_inter_online(data_500)\n",
    "toc = time.time()\n",
    "print('The time for max_inter_loop is on data_500 is', str((toc - tic)/1000) + 's')\n",
    "\n",
    "online_time.append((toc - tic)/1000)\n",
    "online_time"
   ]
  },
  {
   "cell_type": "code",
   "execution_count": 71,
   "metadata": {},
   "outputs": [
    {
     "name": "stdout",
     "output_type": "stream",
     "text": [
      "The time for max_inter_loop is on data_1000 is 0.00038703227043151853s\n"
     ]
    },
    {
     "data": {
      "text/plain": [
       "[3.9116621017456056e-05, 0.00019050860404968263, 0.00038703227043151853]"
      ]
     },
     "execution_count": 71,
     "metadata": {},
     "output_type": "execute_result"
    }
   ],
   "source": [
    "tic = time.time()\n",
    "for i in range(1000):\n",
    "    max_sum = max_inter_online(data_1000)\n",
    "toc = time.time()\n",
    "print('The time for max_inter_loop is on data_1000 is', str((toc - tic)/1000) + 's')\n",
    "\n",
    "online_time.append((toc - tic)/1000)\n",
    "online_time"
   ]
  },
  {
   "cell_type": "code",
   "execution_count": 72,
   "metadata": {},
   "outputs": [
    {
     "name": "stdout",
     "output_type": "stream",
     "text": [
      "The time for max_inter_loop is on data_2000 is 0.0006893351078033447s\n"
     ]
    },
    {
     "data": {
      "text/plain": [
       "[3.9116621017456056e-05,\n",
       " 0.00019050860404968263,\n",
       " 0.00038703227043151853,\n",
       " 0.0006893351078033447]"
      ]
     },
     "execution_count": 72,
     "metadata": {},
     "output_type": "execute_result"
    }
   ],
   "source": [
    "tic = time.time()\n",
    "for i in range(1000):\n",
    "    max_sum = max_inter_online(data_2000)\n",
    "toc = time.time()\n",
    "print('The time for max_inter_loop is on data_2000 is', str((toc - tic)/1000) + 's')\n",
    "\n",
    "online_time.append((toc - tic)/1000)\n",
    "online_time"
   ]
  },
  {
   "cell_type": "code",
   "execution_count": 73,
   "metadata": {},
   "outputs": [
    {
     "name": "stdout",
     "output_type": "stream",
     "text": [
      "The time for max_inter_loop is on data_4000 is 0.0014945149421691894s\n"
     ]
    },
    {
     "data": {
      "text/plain": [
       "[3.9116621017456056e-05,\n",
       " 0.00019050860404968263,\n",
       " 0.00038703227043151853,\n",
       " 0.0006893351078033447,\n",
       " 0.0014945149421691894]"
      ]
     },
     "execution_count": 73,
     "metadata": {},
     "output_type": "execute_result"
    }
   ],
   "source": [
    "tic = time.time()\n",
    "for i in range(1000):\n",
    "    max_sum = max_inter_online(data_4000)\n",
    "toc = time.time()\n",
    "print('The time for max_inter_loop is on data_4000 is', str((toc - tic)/1000) + 's')\n",
    "\n",
    "online_time.append((toc - tic)/1000)\n",
    "online_time"
   ]
  },
  {
   "cell_type": "code",
   "execution_count": 74,
   "metadata": {},
   "outputs": [
    {
     "name": "stdout",
     "output_type": "stream",
     "text": [
      "The time for max_inter_loop is on data_6000 is 0.002179309844970703s\n"
     ]
    },
    {
     "data": {
      "text/plain": [
       "[3.9116621017456056e-05,\n",
       " 0.00019050860404968263,\n",
       " 0.00038703227043151853,\n",
       " 0.0006893351078033447,\n",
       " 0.0014945149421691894,\n",
       " 0.002179309844970703]"
      ]
     },
     "execution_count": 74,
     "metadata": {},
     "output_type": "execute_result"
    }
   ],
   "source": [
    "tic = time.time()\n",
    "for i in range(1000):\n",
    "    max_sum = max_inter_online(data_6000)\n",
    "toc = time.time()\n",
    "print('The time for max_inter_loop is on data_6000 is', str((toc - tic)/1000) + 's')\n",
    "\n",
    "online_time.append((toc - tic)/1000)\n",
    "online_time"
   ]
  },
  {
   "cell_type": "code",
   "execution_count": 76,
   "metadata": {},
   "outputs": [
    {
     "data": {
      "text/plain": [
       "[3.9116621017456056e-05,\n",
       " 0.00019050860404968263,\n",
       " 0.00038703227043151853,\n",
       " 0.0006893351078033447,\n",
       " 0.0014945149421691894,\n",
       " 0.002179309844970703]"
      ]
     },
     "execution_count": 76,
     "metadata": {},
     "output_type": "execute_result"
    }
   ],
   "source": [
    "del online_time[6]\n",
    "online_time"
   ]
  },
  {
   "cell_type": "code",
   "execution_count": 77,
   "metadata": {},
   "outputs": [
    {
     "name": "stdout",
     "output_type": "stream",
     "text": [
      "The time for max_inter_loop is on data_8000 is 0.002875666856765747s\n"
     ]
    },
    {
     "data": {
      "text/plain": [
       "[3.9116621017456056e-05,\n",
       " 0.00019050860404968263,\n",
       " 0.00038703227043151853,\n",
       " 0.0006893351078033447,\n",
       " 0.0014945149421691894,\n",
       " 0.002179309844970703,\n",
       " 0.002875666856765747]"
      ]
     },
     "execution_count": 77,
     "metadata": {},
     "output_type": "execute_result"
    }
   ],
   "source": [
    "tic = time.time()\n",
    "for i in range(1000):\n",
    "    max_sum = max_inter_online(data_8000)\n",
    "toc = time.time()\n",
    "print('The time for max_inter_loop is on data_8000 is', str((toc - tic)/1000) + 's')\n",
    "\n",
    "online_time.append((toc - tic)/1000)\n",
    "online_time"
   ]
  },
  {
   "cell_type": "code",
   "execution_count": 78,
   "metadata": {
    "scrolled": true
   },
   "outputs": [
    {
     "name": "stdout",
     "output_type": "stream",
     "text": [
      "The time for max_inter_loop is on data_10000 is 0.003729442834854126s\n"
     ]
    },
    {
     "data": {
      "text/plain": [
       "[3.9116621017456056e-05,\n",
       " 0.00019050860404968263,\n",
       " 0.00038703227043151853,\n",
       " 0.0006893351078033447,\n",
       " 0.0014945149421691894,\n",
       " 0.002179309844970703,\n",
       " 0.002875666856765747,\n",
       " 0.003729442834854126]"
      ]
     },
     "execution_count": 78,
     "metadata": {},
     "output_type": "execute_result"
    }
   ],
   "source": [
    "tic = time.time()\n",
    "for i in range(1000):\n",
    "    max_sum = max_inter_online(data_10000)\n",
    "toc = time.time()\n",
    "print('The time for max_inter_loop is on data_10000 is', str((toc - tic)/1000) + 's')\n",
    "\n",
    "online_time.append((toc - tic)/1000)\n",
    "online_time"
   ]
  },
  {
   "cell_type": "markdown",
   "metadata": {},
   "source": [
    "## Visualization"
   ]
  },
  {
   "cell_type": "code",
   "execution_count": 88,
   "metadata": {},
   "outputs": [
    {
     "data": {
      "image/png": "[encoded data removed]",
      "text/plain": [
       "<matplotlib.figure.Figure at 0x1b742e33f98>"
      ]
     },
     "metadata": {},
     "output_type": "display_data"
    }
   ],
   "source": [
    "from matplotlib.pyplot import *\n",
    "% matplotlib inline\n",
    "\n",
    "plot([100,500,1000,2000,4000,6000,8000,10000], online_time, label = 'online version')\n",
    "plot([100,500,1000,2000,4000,6000,8000,10000], online_time,'r*')\n",
    "plot([100,500,1000,2000,4000,6000,8000,10000], loop_time, label = 'loop version')\n",
    "plot([100,500,1000,2000,4000,6000,8000,10000], loop_time,'g+')\n",
    "title('Maximum interval sum running time')\n",
    "xlabel('The size of the dataset')\n",
    "ylabel('Running time(s)')\n",
    "legend(loc = 'best')\n",
    "\n",
    "grid()"
   ]
  },
  {
   "cell_type": "code",
   "execution_count": 81,
   "metadata": {},
   "outputs": [
    {
     "data": {
      "image/png": "[encoded data removed]",
      "text/plain": [
       "<matplotlib.figure.Figure at 0x1b742be1a20>"
      ]
     },
     "metadata": {},
     "output_type": "display_data"
    }
   ],
   "source": [
    "from matplotlib.pyplot import *\n",
    "% matplotlib inline\n",
    "\n",
    "plot([100,500,1000,2000,4000,6000,8000,10000], online_time, label = 'online version')\n",
    "plot([100,500,1000,2000,4000,6000,8000,10000], online_time,'r*')\n",
    "title('Maximum interval sum running time')\n",
    "xlabel('The size of the dataset')\n",
    "ylabel('Running time(s)')\n",
    "legend(loc = 'best')\n",
    "\n",
    "grid()"
   ]
  },
  {
   "cell_type": "markdown",
   "metadata": {},
   "source": [
    "## Analysis\n",
    "根据理论分析，第一个“暴力法”的实现，里面涉及了三重循环，因此它的时间复杂度是 $O(n^3)$;而动态规划版的实现，只有一个循环，因此它的时间复杂度为$O(n)$。\n",
    "\n",
    "从我们刚才的实验也可以看出，loop version的曲线基本满足三次方曲线的形状；而online version则保持线性。\n",
    "二者在数据量很小的情况下，所花费的时间比较接近；但在数据量增大后，后者的优越性就体现出来了。"
   ]
  },
  {
   "cell_type": "markdown",
   "metadata": {},
   "source": [
    "### Loop version\n",
    "说明：由于我是调用python的time模块，没有涉及ticks的计算，因此这里略去这一项。\n",
    "\n",
    "|       N     |100|500|1000|2000|4000|6000|8000|10000|\n",
    "| ------------|---|---|----|----|----|----|----|-----|\n",
    "|**Iterations(K)**| 1 |1  |1   | 1  | 1  | 1  | 1  | 1   |\n",
    "|**Total time(sec)**|0.0526|4.370|33.141|279.706|2239.911|7559.727|17919.273|34998.541|\n",
    "|**Duration(sec)**|0.0526|4.370|33.141|279.706|2239.911|7559.727|17919.273|34998.541|"
   ]
  },
  {
   "cell_type": "markdown",
   "metadata": {},
   "source": [
    "### Online version\n",
    "|       N     |100|500|1000|2000|4000|6000|8000|10000|\n",
    "| ------------|---|---|----|----|----|----|----|-----|\n",
    "|**Iterations(K)**| 1000 |1000  |1000   | 1000  | 1000  | 1000  | 1000  | 1000   |\n",
    "|**Total time(sec)**|0.039|0.19|0.39|0.69|1.49|2.18|2.88|3.72|\n",
    "|**Duration(sec)**|0.000039|0.00019|0.00039|0.00069|0.00149|0.00218|0.00288|0.00372|"
   ]
  }
 ],
 "metadata": {
  "kernelspec": {
   "display_name": "Python 3",
   "language": "python",
   "name": "python3"
  },
  "language_info": {
   "codemirror_mode": {
    "name": "ipython",
    "version": 3
   },
   "file_extension": ".py",
   "mimetype": "text/x-python",
   "name": "python",
   "nbconvert_exporter": "python",
   "pygments_lexer": "ipython3",
   "version": "3.6.2"
  }
 },
 "nbformat": 4,
 "nbformat_minor": 2
}
