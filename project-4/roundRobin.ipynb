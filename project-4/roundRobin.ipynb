{
 "cells": [
  {
   "cell_type": "code",
   "execution_count": 1,
   "metadata": {},
   "outputs": [],
   "source": [
    "from scipy import *"
   ]
  },
  {
   "cell_type": "markdown",
   "metadata": {},
   "source": [
    "# Round-Robin Problem\n",
    "\n",
    "## Problem Description\n",
    "\n",
    "设有n个运动员要进行网球循环赛。设计 一个满足下列条件的比赛日程表： \n",
    "* 每个选手必须与其他 $n-1$ 个选手各赛一次； \n",
    "* 每个选手一天只能赛一次； \n",
    "* 当 $n$ 是偶数时，循环赛进行 $n-1$ 天。\n",
    "* 当 $n$ 是奇数时，循环赛进行 $n$ 天。"
   ]
  },
  {
   "cell_type": "markdown",
   "metadata": {},
   "source": [
    "## Problem Analysis\n",
    "\n",
    "我们在课堂上讨论过这个问题的一个特殊的情况：$n = 2^k$。\n",
    "\n",
    "这个特殊的情况保证我们每次都能将选手等分，这样一来我们就可以利用**分治**的策略解决问题：每次把参赛选手平均分成两组，先递归地让他们进行内部的循环赛（并且这两组的情况完全对称）；内部赛结束后，两组选手再与彼方小组的成员比赛。这时候两组人数相同，只需依次进行比赛即可。如下图所示。\n",
    "![image_1cbjk539n17qc17tu1grm1cok182u2n.png-33.4kB][7]\n",
    " [7]: http://static.zybuluo.com/EtoDemerzel/uljoo50rezmmtgoyn0sld2z9/image_1cbjk539n17qc17tu1grm1cok182u2n.png"
   ]
  },
  {
   "cell_type": "markdown",
   "metadata": {},
   "source": [
    "对于一般的 $n$, 我们并不能保证每次都能**等分**。事实上，只要 $n$ 不是 $2$ 的幂次，在划分过程中一定会出现奇数的情况。为了模拟上面的情况，在出现奇数时，我们采用**引入一个虚拟选手**的做法，使选手人数重新变为偶数，从而可以等分。\n",
    "\n",
    "对于一个规模为 $n$ 的问题，安排的日程表中出现虚拟选手意味着与他交手的选手在当轮轮空。而当我们要从规模为 $\\lfloor \\frac{n}{2}\\rfloor$ 的问题得到 $n$ 个选手的循环赛日程表时，由于两组的对称性，**虚拟选手出现的位置将完全对称**，那么我们可以给同时轮空的两个选手安排一场比赛。之后再使两组的选手依次与对组选手交手。这样我们实现了比赛时间的最小化。"
   ]
  },
  {
   "cell_type": "markdown",
   "metadata": {},
   "source": [
    "## Data structure\n",
    "\n",
    "我们考虑用**一个矩阵**来存储这个日程表。其中每一行代表一个选手，每一列代表一天，矩阵中的元素代表对手。\n",
    "例如，矩阵第 $i$ 行,第 $j$ 列上的元素，就是选手 $i$ 在第 $j$ 天比赛的对手。\n",
    "\n",
    "![image_1cbjld79ve3eviq1thh161t18iv34.png-11kB][dia]\n",
    " [dia]: http://static.zybuluo.com/EtoDemerzel/rp6lkc3tu6d65kcqnlr0p4fw/image_1cbjll0dl1ac31n071qgh1f231fcs29.png"
   ]
  },
  {
   "cell_type": "markdown",
   "metadata": {},
   "source": [
    "## Algorithm example\n",
    "\n",
    "这里我们以6个选手为例，详述我们的算法。我们将仅描述从 $3$ 个选手的子问题合并到 $6$ 个选手的原问题的步骤。\n",
    "首先我们对 $3$ 个选手的情况求解，结果里出现了虚拟选手； $1-3$ 号与 $4-6$ 号情况完全一致。如下图：\n",
    "![image_1cbjljson1qgjk2uv6a1s775g419.png-14.3kB][1]\n",
    "[1]:http://static.zybuluo.com/EtoDemerzel/o16sndvlgibvam0p8io1hpen/image_1cbjljson1qgjk2uv6a1s775g419.png\n",
    "\n",
    "由于对称性，我们注意到 $i$ 号和 $i+3$ 号总是同时轮空，因此当他们轮空时，我们可以给他们安排比赛。如下图：\n",
    "\n",
    "![image_1cbjlrmj0c4s1ogdr31h5q1aq72m.png-15.9kB][3]\n",
    " [3]: http://static.zybuluo.com/EtoDemerzel/zksji75enxoc3p2juaorpt3b/image_1cbjlrmj0c4s1ogdr31h5q1aq72m.png\n",
    " \n",
    "接下来要进行的是组间的比赛。对于第一个组中的 $i$，由于 $i$ 和 $i+3$ 可能已经比赛过，因此，第 $i$ 个选手的第 $4$ 天的对手从 $i+4$ 开始，依次增加，如果超过了 $6$, 我们再填上 $i + 3$。每行皆如此。如下图：\n",
    "![image_1cbjm1hma12u1iqffcj1nop1gte33.png-17.6kB][4]\n",
    "  [4]: http://static.zybuluo.com/EtoDemerzel/x7vogsujz4m8v3jshe7q1gg7/image_1cbjm1hma12u1iqffcj1nop1gte33.png\n",
    "\n",
    "这样，我们通过这个例子完成了对算法的描述。"
   ]
  },
  {
   "cell_type": "markdown",
   "metadata": {},
   "source": [
    "## Implementation"
   ]
  },
  {
   "cell_type": "code",
   "execution_count": 2,
   "metadata": {},
   "outputs": [],
   "source": [
    "\n",
    "def roundRobin(n):\n",
    "    '''\n",
    "    Scheduling for the round robin tournament.\n",
    "    \n",
    "    Parameters:\n",
    "    n -- the number of players. Could be any positive integers.\n",
    "    \n",
    "    Returns:\n",
    "    \n",
    "    schedule -- the schedule for the round robin tournament.\n",
    "    Each row represent the opponents of a player, listed in time order.\n",
    "    When n is even, schedule should be an n*(n-1) matrix;\n",
    "    When it is odd, the size should be (n+1)*n with a virtual player.\n",
    "    The virtual player's number exceeds n.\n",
    "    '''\n",
    "    if n & 1:\n",
    "        n += 1\n",
    "    \n",
    "    # base case\n",
    "    if n == 2:\n",
    "        return array([[2],[1]]) # 2>n, so it represent a virtual player\n",
    "    \n",
    "\n",
    "\n",
    "        \n",
    "    # n is now an even number, the tournament need n-1 days to complete    \n",
    "    schedule = zeros((n, n-1)) \n",
    "    \n",
    "    # divide\n",
    "    half = n // 2\n",
    "    half_case = roundRobin(half) \n",
    "    \n",
    "    # conquer\n",
    "    # print('half_case shape', half_case.shape)\n",
    "    # first list the inner schedule into the total\n",
    "    for i in range(half):\n",
    "        schedule[i, 0: half_case.shape[1]] = half_case[i,:]\n",
    "        #print(half_case.shape)\n",
    "        assert(i + half < n)\n",
    "        schedule[i + half, 0:half_case.shape[1]] = half_case[i, :] + half\n",
    "        \n",
    "    # eliminate the needless virtual players\n",
    "    for i in range(half):\n",
    "        bye = schedule[i,:] > half  #originally draw a bye\n",
    "        \n",
    "        # due to the symmetry of i and i + half\n",
    "        schedule[i, bye] = i + half + 1\n",
    "        schedule[i + half, bye] = i + 1\n",
    "        \n",
    "    \n",
    "    # games between groups\n",
    "    for i in range(half):\n",
    "        x = i + half + 2\n",
    "        if x > n:\n",
    "            x -= half\n",
    "            \n",
    "        for j in range(half_case.shape[1], n - 1):\n",
    "            schedule[i, j] = x\n",
    "            schedule[x - 1, j] = i + 1\n",
    "            x += 1\n",
    "            if x > n:\n",
    "                x -= half\n",
    "\n",
    "    return schedule\n",
    "    "
   ]
  },
  {
   "cell_type": "markdown",
   "metadata": {},
   "source": [
    "如果 $n$ 为偶数，上述函数返回的就是最终的结果矩阵；如果 $n$ 为奇数，这个函数返回的矩阵的前 $n$ 行（去掉虚拟选手的赛程）是我们结果矩阵，且如果矩阵中出现了大于 $n$ 的数字，表明这一轮该选手轮空。为了方便观察，我们写如下函数："
   ]
  },
  {
   "cell_type": "code",
   "execution_count": 3,
   "metadata": {
    "scrolled": true
   },
   "outputs": [],
   "source": [
    "def show_mat(mat, n):\n",
    "    '''\n",
    "    show the schedule matrix.\n",
    "    \n",
    "    Parameters:\n",
    "    mat -- the result matrix from the function roundRobin.\n",
    "    n -- the number of players.\n",
    "    \n",
    "    returns:\n",
    "    None. \n",
    "    We simply print the result in a beautified way.\n",
    "    '''\n",
    "    \n",
    "\n",
    "    for i in range(n):\n",
    "        x = list(array(mat[i,:], dtype = int))\n",
    "        virtual = [i for i in range(len(x)) if x[i] > n]\n",
    "       \n",
    "        if len(virtual) > 0:\n",
    "            x[squeeze(virtual)] = None # None implies no match that day\n",
    "            \n",
    "      \n",
    "        print('The schedule for player', i + 1, 'is:', x)"
   ]
  },
  {
   "cell_type": "markdown",
   "metadata": {},
   "source": [
    "简单看一下结果，我们挑选了 $n = 4k, 4k+1, 4k+2, 4k+3$ 的多种样例："
   ]
  },
  {
   "cell_type": "code",
   "execution_count": 4,
   "metadata": {},
   "outputs": [
    {
     "name": "stdout",
     "output_type": "stream",
     "text": [
      "The schedule for player 1 is: [None]\n",
      "-------------------------------------------------\n",
      "The schedule for player 1 is: [2, None, 3]\n",
      "The schedule for player 2 is: [1, 3, None]\n",
      "The schedule for player 3 is: [None, 2, 1]\n",
      "-------------------------------------------------\n",
      "The schedule for player 1 is: [2, 4, 3, 6, 7, 8, 5]\n",
      "The schedule for player 2 is: [1, 3, 4, 7, 8, 5, 6]\n",
      "The schedule for player 3 is: [4, 2, 1, 8, 5, 6, 7]\n",
      "The schedule for player 4 is: [3, 1, 2, 5, 6, 7, 8]\n",
      "The schedule for player 5 is: [6, 8, 7, 4, 3, 2, 1]\n",
      "The schedule for player 6 is: [5, 7, 8, 1, 4, 3, 2]\n",
      "The schedule for player 7 is: [8, 6, 5, 2, 1, 4, 3]\n",
      "The schedule for player 8 is: [7, 5, 6, 3, 2, 1, 4]\n",
      "-------------------------------------------------\n",
      "The schedule for player 1 is: [2, 4, 3, 6, 7, 8, 5, 10, 11, 12, 13, 14, 15, None, 9]\n",
      "The schedule for player 2 is: [1, 3, 4, 7, 8, 5, 6, 11, 12, 13, 14, 15, None, 9, 10]\n",
      "The schedule for player 3 is: [4, 2, 1, 8, 5, 6, 7, 12, 13, 14, 15, None, 9, 10, 11]\n",
      "The schedule for player 4 is: [3, 1, 2, 5, 6, 7, 8, 13, 14, 15, None, 9, 10, 11, 12]\n",
      "The schedule for player 5 is: [6, 8, 7, 4, 3, 2, 1, 14, 15, None, 9, 10, 11, 12, 13]\n",
      "The schedule for player 6 is: [5, 7, 8, 1, 4, 3, 2, 15, None, 9, 10, 11, 12, 13, 14]\n",
      "The schedule for player 7 is: [8, 6, 5, 2, 1, 4, 3, None, 9, 10, 11, 12, 13, 14, 15]\n",
      "The schedule for player 8 is: [7, 5, 6, 3, 2, 1, 4, 9, 10, 11, 12, 13, 14, 15, None]\n",
      "The schedule for player 9 is: [10, 12, 11, 14, 15, None, 13, 8, 7, 6, 5, 4, 3, 2, 1]\n",
      "The schedule for player 10 is: [9, 11, 12, 15, None, 13, 14, 1, 8, 7, 6, 5, 4, 3, 2]\n",
      "The schedule for player 11 is: [12, 10, 9, None, 13, 14, 15, 2, 1, 8, 7, 6, 5, 4, 3]\n",
      "The schedule for player 12 is: [11, 9, 10, 13, 14, 15, None, 3, 2, 1, 8, 7, 6, 5, 4]\n",
      "The schedule for player 13 is: [14, None, 15, 12, 11, 10, 9, 4, 3, 2, 1, 8, 7, 6, 5]\n",
      "The schedule for player 14 is: [13, 15, None, 9, 12, 11, 10, 5, 4, 3, 2, 1, 8, 7, 6]\n",
      "The schedule for player 15 is: [None, 14, 13, 10, 9, 12, 11, 6, 5, 4, 3, 2, 1, 8, 7]\n",
      "-------------------------------------------------\n",
      "The schedule for player 1 is: [2, 4, 3, 6, 7, 8, 5, 9, 10, 11, 12, 13, 14]\n",
      "The schedule for player 2 is: [1, 3, 4, 7, 9, 5, 6, 10, 11, 12, 13, 14, 8]\n",
      "The schedule for player 3 is: [4, 2, 1, 10, 5, 6, 7, 11, 12, 13, 14, 8, 9]\n",
      "The schedule for player 4 is: [3, 1, 2, 5, 6, 7, 11, 12, 13, 14, 8, 9, 10]\n",
      "The schedule for player 5 is: [6, 12, 7, 4, 3, 2, 1, 13, 14, 8, 9, 10, 11]\n",
      "The schedule for player 6 is: [5, 7, 13, 1, 4, 3, 2, 14, 8, 9, 10, 11, 12]\n",
      "The schedule for player 7 is: [14, 6, 5, 2, 1, 4, 3, 8, 9, 10, 11, 12, 13]\n",
      "The schedule for player 8 is: [9, 11, 10, 13, 14, 1, 12, 7, 6, 5, 4, 3, 2]\n",
      "The schedule for player 9 is: [8, 10, 11, 14, 2, 12, 13, 1, 7, 6, 5, 4, 3]\n",
      "The schedule for player 10 is: [11, 9, 8, 3, 12, 13, 14, 2, 1, 7, 6, 5, 4]\n",
      "The schedule for player 11 is: [10, 8, 9, 12, 13, 14, 4, 3, 2, 1, 7, 6, 5]\n",
      "The schedule for player 12 is: [13, 5, 14, 11, 10, 9, 8, 4, 3, 2, 1, 7, 6]\n",
      "The schedule for player 13 is: [12, 14, 6, 8, 11, 10, 9, 5, 4, 3, 2, 1, 7]\n",
      "The schedule for player 14 is: [7, 13, 12, 9, 8, 11, 10, 6, 5, 4, 3, 2, 1]\n"
     ]
    }
   ],
   "source": [
    "#case 1\n",
    "show_mat(roundRobin(1),1)\n",
    "print('-------------------------------------------------')\n",
    "#case 2\n",
    "show_mat(roundRobin(3),3)\n",
    "print('-------------------------------------------------')\n",
    "#case 3\n",
    "show_mat(roundRobin(8), 8)\n",
    "print('-------------------------------------------------')\n",
    "#case 4\n",
    "show_mat(roundRobin(15),15)\n",
    "print('-------------------------------------------------')\n",
    "#case 5\n",
    "show_mat(roundRobin(14),14)"
   ]
  },
  {
   "cell_type": "markdown",
   "metadata": {},
   "source": [
    "## Correctness checking\n",
    "\n",
    "我们需要验证算法的正确性。\n",
    "怎样的结果是正确的：\n",
    "* 每一行是 $[1,n]$ 的不重复数字，且应包含除行数以外的所有数字。\n",
    "* 每一列除了轮空时有一个数字大于 $n$, 其他应是 $[1,n]$ 上的不重复数字，并且应该全部出现。 \n",
    "* 对所有的 $i$, 如果\n",
    "```python\n",
    "schedule[i,j] = k\n",
    "```\n",
    "就有\n",
    "```python\n",
    "schedule[k-1,j] = i+1\n",
    "```"
   ]
  },
  {
   "cell_type": "code",
   "execution_count": 60,
   "metadata": {},
   "outputs": [],
   "source": [
    "def check(mat, n):\n",
    "    '''\n",
    "    To check the correctness of our algorithm\n",
    "    \n",
    "    Parameters:\n",
    "    \n",
    "    mat -- the matrix gained from the function roundRobin.\n",
    "    \n",
    "    n -- the parameter for roundRobin. Actually it is needless, since we can\n",
    "    determine its value through mat's shape, but with it it is more convenient.\n",
    "    \n",
    "    Returns:\n",
    "    \n",
    "    if return True, it means our algorithm works correctly. Else it is incorrect.\n",
    "    '''\n",
    "    # check the properties about rows\n",
    "    for i in range(n):\n",
    "        b = in1d(list(range(1, n+1)), mat[i,:]) # check whether the numbers from 1 to n is in the i-th row of mat\n",
    "        \n",
    "        \n",
    "        assert(squeeze(where(b == False)).shape == ()) # to assure there is only 1 number missing i.e. the row number\n",
    "        if squeeze(where(b == False)) != i:  # to check if the missing number is the row number\n",
    "            print(squeeze(where(b == False)))\n",
    "            return False\n",
    "        \n",
    "        if i == n-1 and n&1 == 0:\n",
    "            pass # if n is even there is only n-1 columns\n",
    "        else:\n",
    "            c = in1d(list(range(1, n+1)), mat[:,i]) # check whether the numbers from 1 to n is in the i-th column of mat\n",
    "            if squeeze(where(c == False)).shape[0] != 0:\n",
    "                return False\n",
    "            \n",
    "            # check whether there at most 1 larger than n\n",
    "            d = in1d(mat[:,i], list(range(1,n+1))) \n",
    "            skip = squeeze(where(d == False))\n",
    "            assert(skip.shape == () or skip.shape == (0,))\n",
    "            if skip.shape == (0,) and mat[skip, i] <= n:\n",
    "                return False\n",
    "            \n",
    "        # check whether schedule[i,j] = k implies schedule[k-1,h] = i+1\n",
    "        for j in range(mat.shape[1]):\n",
    "            k = int(mat[i,j])\n",
    "            if mat[k-1,j] != i+1:\n",
    "                print(i)\n",
    "                print(mat[k,j])\n",
    "                return False\n",
    "            \n",
    "    \n",
    "    # check the properties about columns\n",
    "    \n",
    "        \n",
    "    return True     "
   ]
  },
  {
   "cell_type": "markdown",
   "metadata": {},
   "source": [
    "由于循环赛参与者不太可能太多，我们仅检验 $n$ 在 $1-200$ 范围内算法的正确性： "
   ]
  },
  {
   "cell_type": "code",
   "execution_count": 61,
   "metadata": {
    "scrolled": true
   },
   "outputs": [
    {
     "name": "stdout",
     "output_type": "stream",
     "text": [
      "True\n"
     ]
    }
   ],
   "source": [
    "result = True\n",
    "for i in range(1,201):\n",
    "    result = result and check(roundRobin(i),i)\n",
    "    \n",
    "print(result)"
   ]
  },
  {
   "cell_type": "markdown",
   "metadata": {},
   "source": [
    "这样，我们认为我们的算法是正确的。"
   ]
  },
  {
   "cell_type": "markdown",
   "metadata": {},
   "source": [
    "## Complexity analysis\n",
    "\n",
    "根据上面的讨论，我们可以得出 $$T(n) = T(\\frac{n}{2}) + O(n^2)$$\n",
    "\n",
    "根据主定理，我们知道 $$T(n) = \\Theta(n^2)$$\n",
    "下面我们通过测对不同大小的情况程序的运行时间来进行测试。"
   ]
  },
  {
   "cell_type": "code",
   "execution_count": 79,
   "metadata": {},
   "outputs": [],
   "source": [
    "import time\n",
    "\n",
    "def comp_test():\n",
    "    runtime = []\n",
    "    for i in range(1,1001):\n",
    "        tic = time.time()\n",
    "        roundRobin(i)\n",
    "        toc = time.time()\n",
    "        runtime.append(toc - tic)\n",
    "        if i % 50 == 0:\n",
    "            print('current:', i)\n",
    "    return runtime"
   ]
  },
  {
   "cell_type": "code",
   "execution_count": 82,
   "metadata": {
    "scrolled": true
   },
   "outputs": [
    {
     "name": "stdout",
     "output_type": "stream",
     "text": [
      "current: 50\n",
      "current: 100\n",
      "current: 150\n",
      "current: 200\n",
      "current: 250\n",
      "current: 300\n",
      "current: 350\n",
      "current: 400\n",
      "current: 450\n",
      "current: 500\n",
      "current: 550\n",
      "current: 600\n",
      "current: 650\n",
      "current: 700\n",
      "current: 750\n",
      "current: 800\n",
      "current: 850\n",
      "current: 900\n",
      "current: 950\n",
      "current: 1000\n"
     ]
    }
   ],
   "source": [
    "runtime = comp_test()"
   ]
  },
  {
   "cell_type": "code",
   "execution_count": 83,
   "metadata": {
    "scrolled": false
   },
   "outputs": [
    {
     "data": {
      "text/plain": [
       "[<matplotlib.lines.Line2D at 0x2ab08a85c50>]"
      ]
     },
     "execution_count": 83,
     "metadata": {},
     "output_type": "execute_result"
    },
    {
     "data": {
      "image/png": "[encoded data removed]",
      "text/plain": [
       "<matplotlib.figure.Figure at 0x2ab089f7128>"
      ]
     },
     "metadata": {},
     "output_type": "display_data"
    }
   ],
   "source": [
    "from matplotlib.pyplot import *\n",
    "% matplotlib inline\n",
    "\n",
    "plot(list(range(1,1001)), runtime)"
   ]
  },
  {
   "cell_type": "markdown",
   "metadata": {},
   "source": [
    "从上面的图像我们发现代码的运行时间大致与 $n$ 的大小成二次方关系，这验证了我们刚才的分析。"
   ]
  }
 ],
 "metadata": {
  "kernelspec": {
   "display_name": "Python 3",
   "language": "python",
   "name": "python3"
  },
  "language_info": {
   "codemirror_mode": {
    "name": "ipython",
    "version": 3
   },
   "file_extension": ".py",
   "mimetype": "text/x-python",
   "name": "python",
   "nbconvert_exporter": "python",
   "pygments_lexer": "ipython3",
   "version": "3.6.2"
  }
 },
 "nbformat": 4,
 "nbformat_minor": 2
}
