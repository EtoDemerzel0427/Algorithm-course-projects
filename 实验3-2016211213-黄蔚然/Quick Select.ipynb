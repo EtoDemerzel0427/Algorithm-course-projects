{
 "cells": [
  {
   "cell_type": "markdown",
   "metadata": {},
   "source": [
    "# QuickSelect\n",
    "\n",
    "## Algorithm Description\n",
    "\n",
    "### Naive QuickSelect\n",
    "> 在计算机科学中，**快速选择**（英语：Quickselect）是一种从无序列表找到第 $k$ 小元素的选择算法。它从原理上来说与快速排序有关。与快速排序一样都由托尼·霍尔提出的，因而也被称为**霍尔选择算法**。 同样地，它在实际应用是一种高效的算法，具有很好的平均时间复杂度，然而最坏时间复杂度则不理想。快速选择及其变种是实际应用中最常使用的高效选择算法。\n",
    "<br><br>\n",
    "快速选择的总体思路与快速排序一致，选择一个元素作为基准来对元素进行分区，将小于和大于基准的元素分在基准左边和右边的两个区域。不同的是，快速选择并不递归访问双边，而是只递归进入一边的元素中继续寻找。这降低了平均时间复杂度，从$O(n log n)$ 至 $O(n)$，不过最坏情况仍然是$O(n^2)$。\n",
    "与快速排序一样，快速选择一般是以原地算法的方式实现，除了选出第 $k$ 小的元素，数据也得到了部分地排序。\n",
    "\n",
    "\n",
    "大部分情况下，上面提到的情况可以通过随机选取基准来解决，但是少部分情况下（比如所有元素全都相等的时候），最坏情况仍为$O(n^2)$。因此我们需要其他的办法来解决这个问题。\n",
    "\n",
    "### Modified QuickSelect(BFBRT)\n",
    "\n",
    "解决上面最坏情况的办法是**通过某种选取基准的方法，使得每次划分子数组的长度都能至少以某个固定比例缩小。**\n",
    "这里我们采取的方法是：\n",
    "\n",
    "1. 将 个输入元素划分成 $\\frac{n}{5}$ 个组，每组 $5$ 个元素，可能有一个组少于 $5$ 个元素。用任意一种排序算法，将每组的元素排好序，并取出每组的中位数，共 $\\frac{n}{5}$ 个。\n",
    "2. 递归调用select来找出这 $\\frac{n}{5}$个元素的中位数。如果是偶数，就找它的 $2$ 个中位数中较大的一个。\n",
    "3. 以这个元素作为划分基准。\n",
    "\n",
    "这个算法在最坏情况下的复杂度也达到了 $O(n)$, 它的正式名字叫做**BFBRT**算法，这个名字来自它的五个提出者————Blum、Floyd、Pratt、Rivest、Tarjan。\n",
    "\n",
    "关于这个算法的执行过程，我找到这样一张图片，可以清晰地描述：\n",
    "\n",
    "![image_1cb76ji0016a41pia183410ij1ne99.png-47kB][3]\n",
    "\n",
    "  [3]: http://static.zybuluo.com/EtoDemerzel/6b2wphy6q029ctrpnpp4mhr8/image_1cb76ji0016a41pia183410ij1ne99.png"
   ]
  },
  {
   "cell_type": "markdown",
   "metadata": {},
   "source": [
    "## Implementation\n",
    "\n",
    "虽然我们的project只要求我们实现线性时间的选择算法，但这里我们两种算法都实现一下，以便比较。\n",
    "\n",
    "### Naive QuickSelect\n",
    "\n",
    "这里的基准随机产生，毕竟这也是一个优化之处。另一个优化的地方在于，如果这个数组过小（不超过75个元素），那么我们选择直接对它排序。"
   ]
  },
  {
   "cell_type": "code",
   "execution_count": 108,
   "metadata": {},
   "outputs": [],
   "source": [
    "def select_random_pivot(array, k):\n",
    "    '''\n",
    "    The implementation of QuickSelect algorithm to select the k'th smallest element.\n",
    "    Here the pivot is chosen randomly.\n",
    "    '''\n",
    "\n",
    "    # If the array is short, terminate the recursion and return the\n",
    "    # value without partitioning.\n",
    "    if len(array) <= 75:\n",
    "        array.sort()\n",
    "        return array[k-1]\n",
    "\n",
    "    # Randomly choose a pivot point.\n",
    "    pivot_idx = random.randint(0, len(array) - 1)\n",
    "    pivot = array[pivot_idx]\n",
    "\n",
    "    # divide into three parts: little, great, and equal.\n",
    "    array_lt = []\n",
    "    array_gt = []\n",
    "    array_eq = []\n",
    "    for item in array:\n",
    "        if item < pivot:\n",
    "            array_lt.append(item)\n",
    "        elif item > pivot:\n",
    "            array_gt.append(item)\n",
    "        else:\n",
    "            array_eq.append(item)\n",
    "\n",
    "\n",
    "\n",
    "    if k <= len(array_lt): # in the little part\n",
    "        return select_random_pivot(array_lt, k)\n",
    "    elif k <= len(array_lt) + len(array_eq): # in the equal part\n",
    "        return array_eq[0]\n",
    "    else: # in the great part\n",
    "        normalized_k = k - (len(array_lt) + len(array_eq))\n",
    "        return select_random_pivot(array_gt, normalized_k)"
   ]
  },
  {
   "cell_type": "code",
   "execution_count": 110,
   "metadata": {
    "scrolled": true
   },
   "outputs": [
    {
     "name": "stdout",
     "output_type": "stream",
     "text": [
      "4\n",
      "83\n",
      "83\n"
     ]
    }
   ],
   "source": [
    "# simple test\n",
    "\n",
    "# case 1: (less than ten) \n",
    "a = [14,5,3,7,4,2,9,7]\n",
    "print(select_random_pivot(a, 3))\n",
    "\n",
    "\n",
    "\n",
    "# case 2:\n",
    "import numpy as np\n",
    "from numpy import random\n",
    "\n",
    "a = np.random.randint(0, 100, size = 100)\n",
    "b = sorted(a)\n",
    "print(b[87-1])\n",
    "print(select_random_pivot(a,87))"
   ]
  },
  {
   "cell_type": "markdown",
   "metadata": {},
   "source": [
    "### BFBRT"
   ]
  },
  {
   "cell_type": "code",
   "execution_count": 127,
   "metadata": {},
   "outputs": [],
   "source": [
    "def select_median_of_medians_pivot(array, k):\n",
    "    '''\n",
    "    Implementation of BFBRT algorithm.\n",
    "    Here the worst case complexity is O(n).\n",
    "    '''\n",
    " \n",
    "    # If the array is short, terminate the recursion and return the\n",
    "    # value without partitioning.\n",
    "    if len(array) <= 75:\n",
    "        array.sort()\n",
    "        return array[k-1]\n",
    " \n",
    "    subset_size = 5  \n",
    "    subsets = []  # list of subsets\n",
    "    num_medians = len(array) // subset_size\n",
    "    if (len(array) % subset_size) > 0:\n",
    "        num_medians += 1\n",
    "    for i in range(num_medians):\n",
    "        beg = i * subset_size # the begining position of every subset\n",
    "        end = min(len(array), beg + subset_size) # the ending position of every subset\n",
    "        subset = array[beg:end]\n",
    "        subsets.append(subset)\n",
    " \n",
    "    # here we recursively call this select_median_of_median_pivot to get the medians\n",
    "    medians = []  # list of medians\n",
    "    for subset in subsets:\n",
    "        #median = select_median_of_medians_pivot(subset, len(subset)//2)\n",
    "        # actually we could have written: \n",
    "        subset.sort()\n",
    "        median = subset[len(subset)//2 - 1]\n",
    "        # but it is almost the same since when len<75, we will sort it.\n",
    "        medians.append(median)\n",
    " \n",
    "    \n",
    "    # recursively call this function to get the median of median\n",
    "    median_of_medians = select_median_of_medians_pivot(medians, len(medians)//2)\n",
    "    pivot = median_of_medians  \n",
    " \n",
    "    # partition\n",
    "    array_lt = []\n",
    "    array_gt = []\n",
    "    array_eq = []\n",
    "    for item in array:\n",
    "        if item < pivot:\n",
    "            array_lt.append(item)\n",
    "        elif item > pivot:\n",
    "            array_gt.append(item)\n",
    "        else:\n",
    "            array_eq.append(item)\n",
    " \n",
    "    # the same as the former one\n",
    "    if k <= len(array_lt):\n",
    "        return select_median_of_medians_pivot(array_lt, k)\n",
    "    elif k <= len(array_lt) + len(array_eq):\n",
    "        return array_eq[0]\n",
    "    else:\n",
    "        normalized_k = k - (len(array_lt) + len(array_eq))\n",
    "        return select_median_of_medians_pivot(array_gt, normalized_k)"
   ]
  },
  {
   "cell_type": "code",
   "execution_count": 131,
   "metadata": {
    "scrolled": false
   },
   "outputs": [
    {
     "name": "stdout",
     "output_type": "stream",
     "text": [
      "43\n",
      "43\n"
     ]
    }
   ],
   "source": [
    "# simple test\n",
    "a = np.random.randint(0, 1000, size = 1000)\n",
    "b = sorted(a)\n",
    "print(b[45-1])\n",
    "print(select_median_of_medians_pivot(a,45))"
   ]
  },
  {
   "cell_type": "markdown",
   "metadata": {},
   "source": [
    "## Test of correctness\n",
    "\n",
    "我们在从 $10$ 到 $100000$ 大小的数据集上进行测试，每个数据集上选取 $5$ 个位置。"
   ]
  },
  {
   "cell_type": "code",
   "execution_count": 132,
   "metadata": {},
   "outputs": [],
   "source": [
    "def correct_test(flag):\n",
    "    '''\n",
    "    when flag == 1, we test the correctness of select_random_pivot.\n",
    "    when flag == 0, we test the correctness of select_median_of_medians_pivot.\n",
    "    '''\n",
    "    data_size = [10, 50, 100, 200, 500, 1000, 2000, 5000, 8000, 10000, 50000, 80000, 100000]\n",
    "    \n",
    "    for i in data_size:\n",
    "        data = list(500000*np.random.random(i))\n",
    "        sorted_data = sorted(data)\n",
    "    \n",
    "        if flag == 1:\n",
    "            for j in range(5): # each dataset with 5 different test\n",
    "                k = random.randint(1, i+1)\n",
    "                result = select_random_pivot(data, k)\n",
    "            \n",
    "                print('Same as built-in method?', result == sorted_data[k-1])\n",
    "            print('---------------------- dataset division  ---------------------')\n",
    "        \n",
    "        if flag == 0:\n",
    "            for j in range(5): # each dataset with 5 different test\n",
    "                k = random.randint(1, i+1)\n",
    "                result = select_median_of_medians_pivot(data, k)\n",
    "            \n",
    "                print('Same as built-in method?', result == sorted_data[k-1])\n",
    "            print('---------------------- dataset division  ---------------------')"
   ]
  },
  {
   "cell_type": "code",
   "execution_count": 115,
   "metadata": {
    "scrolled": false
   },
   "outputs": [
    {
     "name": "stdout",
     "output_type": "stream",
     "text": [
      "Same as built-in method? True\n",
      "Same as built-in method? True\n",
      "Same as built-in method? True\n",
      "Same as built-in method? True\n",
      "Same as built-in method? True\n",
      "---------------------- dataset division  ---------------------\n",
      "Same as built-in method? True\n",
      "Same as built-in method? True\n",
      "Same as built-in method? True\n",
      "Same as built-in method? True\n",
      "Same as built-in method? True\n",
      "---------------------- dataset division  ---------------------\n",
      "Same as built-in method? True\n",
      "Same as built-in method? True\n",
      "Same as built-in method? True\n",
      "Same as built-in method? True\n",
      "Same as built-in method? True\n",
      "---------------------- dataset division  ---------------------\n",
      "Same as built-in method? True\n",
      "Same as built-in method? True\n",
      "Same as built-in method? True\n",
      "Same as built-in method? True\n",
      "Same as built-in method? True\n",
      "---------------------- dataset division  ---------------------\n",
      "Same as built-in method? True\n",
      "Same as built-in method? True\n",
      "Same as built-in method? True\n",
      "Same as built-in method? True\n",
      "Same as built-in method? True\n",
      "---------------------- dataset division  ---------------------\n",
      "Same as built-in method? True\n",
      "Same as built-in method? True\n",
      "Same as built-in method? True\n",
      "Same as built-in method? True\n",
      "Same as built-in method? True\n",
      "---------------------- dataset division  ---------------------\n",
      "Same as built-in method? True\n",
      "Same as built-in method? True\n",
      "Same as built-in method? True\n",
      "Same as built-in method? True\n",
      "Same as built-in method? True\n",
      "---------------------- dataset division  ---------------------\n",
      "Same as built-in method? True\n",
      "Same as built-in method? True\n",
      "Same as built-in method? True\n",
      "Same as built-in method? True\n",
      "Same as built-in method? True\n",
      "---------------------- dataset division  ---------------------\n",
      "Same as built-in method? True\n",
      "Same as built-in method? True\n",
      "Same as built-in method? True\n",
      "Same as built-in method? True\n",
      "Same as built-in method? True\n",
      "---------------------- dataset division  ---------------------\n",
      "Same as built-in method? True\n",
      "Same as built-in method? True\n",
      "Same as built-in method? True\n",
      "Same as built-in method? True\n",
      "Same as built-in method? True\n",
      "---------------------- dataset division  ---------------------\n",
      "Same as built-in method? True\n",
      "Same as built-in method? True\n",
      "Same as built-in method? True\n",
      "Same as built-in method? True\n",
      "Same as built-in method? True\n",
      "---------------------- dataset division  ---------------------\n",
      "Same as built-in method? True\n",
      "Same as built-in method? True\n",
      "Same as built-in method? True\n",
      "Same as built-in method? True\n",
      "Same as built-in method? True\n",
      "---------------------- dataset division  ---------------------\n",
      "Same as built-in method? True\n",
      "Same as built-in method? True\n",
      "Same as built-in method? True\n",
      "Same as built-in method? True\n",
      "Same as built-in method? True\n",
      "---------------------- dataset division  ---------------------\n"
     ]
    }
   ],
   "source": [
    "correct_test(1)"
   ]
  },
  {
   "cell_type": "code",
   "execution_count": 133,
   "metadata": {
    "scrolled": true
   },
   "outputs": [
    {
     "name": "stdout",
     "output_type": "stream",
     "text": [
      "Same as built-in method? True\n",
      "Same as built-in method? True\n",
      "Same as built-in method? True\n",
      "Same as built-in method? True\n",
      "Same as built-in method? True\n",
      "---------------------- dataset division  ---------------------\n",
      "Same as built-in method? True\n",
      "Same as built-in method? True\n",
      "Same as built-in method? True\n",
      "Same as built-in method? True\n",
      "Same as built-in method? True\n",
      "---------------------- dataset division  ---------------------\n",
      "Same as built-in method? True\n",
      "Same as built-in method? True\n",
      "Same as built-in method? True\n",
      "Same as built-in method? True\n",
      "Same as built-in method? True\n",
      "---------------------- dataset division  ---------------------\n",
      "Same as built-in method? True\n",
      "Same as built-in method? True\n",
      "Same as built-in method? True\n",
      "Same as built-in method? True\n",
      "Same as built-in method? True\n",
      "---------------------- dataset division  ---------------------\n",
      "Same as built-in method? True\n",
      "Same as built-in method? True\n",
      "Same as built-in method? True\n",
      "Same as built-in method? True\n",
      "Same as built-in method? True\n",
      "---------------------- dataset division  ---------------------\n",
      "Same as built-in method? True\n",
      "Same as built-in method? True\n",
      "Same as built-in method? True\n",
      "Same as built-in method? True\n",
      "Same as built-in method? True\n",
      "---------------------- dataset division  ---------------------\n",
      "Same as built-in method? True\n",
      "Same as built-in method? True\n",
      "Same as built-in method? True\n",
      "Same as built-in method? True\n",
      "Same as built-in method? True\n",
      "---------------------- dataset division  ---------------------\n",
      "Same as built-in method? True\n",
      "Same as built-in method? True\n",
      "Same as built-in method? True\n",
      "Same as built-in method? True\n",
      "Same as built-in method? True\n",
      "---------------------- dataset division  ---------------------\n",
      "Same as built-in method? True\n",
      "Same as built-in method? True\n",
      "Same as built-in method? True\n",
      "Same as built-in method? True\n",
      "Same as built-in method? True\n",
      "---------------------- dataset division  ---------------------\n",
      "Same as built-in method? True\n",
      "Same as built-in method? True\n",
      "Same as built-in method? True\n",
      "Same as built-in method? True\n",
      "Same as built-in method? True\n",
      "---------------------- dataset division  ---------------------\n",
      "Same as built-in method? True\n",
      "Same as built-in method? True\n",
      "Same as built-in method? True\n",
      "Same as built-in method? True\n",
      "Same as built-in method? True\n",
      "---------------------- dataset division  ---------------------\n",
      "Same as built-in method? True\n",
      "Same as built-in method? True\n",
      "Same as built-in method? True\n",
      "Same as built-in method? True\n",
      "Same as built-in method? True\n",
      "---------------------- dataset division  ---------------------\n",
      "Same as built-in method? True\n",
      "Same as built-in method? True\n",
      "Same as built-in method? True\n",
      "Same as built-in method? True\n",
      "Same as built-in method? True\n",
      "---------------------- dataset division  ---------------------\n"
     ]
    }
   ],
   "source": [
    "correct_test(0)"
   ]
  },
  {
   "cell_type": "markdown",
   "metadata": {},
   "source": [
    "于是我们验证了这两个算法的正确性。"
   ]
  },
  {
   "cell_type": "markdown",
   "metadata": {},
   "source": [
    "## Performance measurement"
   ]
  },
  {
   "cell_type": "markdown",
   "metadata": {},
   "source": [
    "与往常一样，我们被要求分析**最坏情况和平均情况**下的时间复杂度。有趣的是，BFBRT算法之所以被提出，正是因为它的最坏情况也是$O(n)$。至于随机选择基准的快速选择，由于其随机性，也很难出现所谓的最坏情况（我能想到的只有所有元素都相同的情况，但老师在群里提到元素应该各异，那么这个情况也不存在了）。\n",
    "\n",
    "但是这些优化都是针对**未优化的快速选择（即固定基准）可能出现的最坏情况**所做的优化，目的是解决这种情况下可能出现的最坏情况的问题。因此，我们这里选取的最坏情况的数据，是针对**未优化版本的快速选择**选取的；也就是有序的数据。这种情况下，选择第 $n$ 小的元素（也就是最大元素）递归最深。\n",
    "\n",
    "而平均情况下，数据随机产生，所选择的 $k$ 也随机产生。"
   ]
  },
  {
   "cell_type": "markdown",
   "metadata": {},
   "source": [
    "### Ordered datasets"
   ]
  },
  {
   "cell_type": "code",
   "execution_count": 134,
   "metadata": {},
   "outputs": [],
   "source": [
    "import time\n",
    "\n",
    "def ordered_measure(flag):\n",
    "    '''\n",
    "    Performance on ordered datasets.\n",
    "    when flag == 1, we measure select_random_pivot,\n",
    "    when flag == 0, we measure select_median_of_medians_pivot.\n",
    "    '''\n",
    "    \n",
    "    runtime = []\n",
    "    \n",
    "    # generate the datasets\n",
    "    data_size = [50, 100, 200, 500, 1000, 2000, 5000, 8000, 10000, 50000, 80000, 100000]\n",
    "    \n",
    "    for i in data_size:\n",
    "        data = sorted(list(500000*np.random.random(i)))\n",
    "        if flag == 1:\n",
    "            tic = time.time()\n",
    "            for j in range(100):\n",
    "                x = select_random_pivot(data, i)\n",
    "            toc = time.time()\n",
    "            runtime.append(toc - tic)\n",
    "            \n",
    "        elif flag == 0:\n",
    "            tic = time.time()\n",
    "            for j in range(100):\n",
    "                x = select_median_of_medians_pivot(data, i)\n",
    "            toc = time.time()\n",
    "            runtime.append(toc - tic)\n",
    "            \n",
    "    return runtime"
   ]
  },
  {
   "cell_type": "code",
   "execution_count": 135,
   "metadata": {},
   "outputs": [
    {
     "data": {
      "text/plain": [
       "[0.0005013942718505859,\n",
       " 0.004511833190917969,\n",
       " 0.010025978088378906,\n",
       " 0.023563861846923828,\n",
       " 0.06370806694030762,\n",
       " 0.0811769962310791,\n",
       " 0.15189313888549805,\n",
       " 0.22911405563354492,\n",
       " 0.32886695861816406,\n",
       " 1.6463472843170166,\n",
       " 3.300302743911743,\n",
       " 3.7286229133605957]"
      ]
     },
     "execution_count": 135,
     "metadata": {},
     "output_type": "execute_result"
    }
   ],
   "source": [
    "random_time = ordered_measure(1)\n",
    "random_time"
   ]
  },
  {
   "cell_type": "code",
   "execution_count": 136,
   "metadata": {
    "scrolled": true
   },
   "outputs": [
    {
     "data": {
      "text/plain": [
       "[0.0,\n",
       " 0.006122112274169922,\n",
       " 0.01897907257080078,\n",
       " 0.05464577674865723,\n",
       " 0.10427737236022949,\n",
       " 0.2561826705932617,\n",
       " 0.532416582107544,\n",
       " 1.0408177375793457,\n",
       " 1.3004586696624756,\n",
       " 8.180448532104492,\n",
       " 14.199047088623047,\n",
       " 19.182743787765503]"
      ]
     },
     "execution_count": 136,
     "metadata": {},
     "output_type": "execute_result"
    }
   ],
   "source": [
    "median_time = ordered_measure(0)\n",
    "median_time"
   ]
  },
  {
   "cell_type": "code",
   "execution_count": 144,
   "metadata": {},
   "outputs": [
    {
     "data": {
      "image/png": "[encoded data removed]",
      "text/plain": [
       "<matplotlib.figure.Figure at 0x266e33bda90>"
      ]
     },
     "metadata": {},
     "output_type": "display_data"
    }
   ],
   "source": [
    "from matplotlib.pyplot import *\n",
    "% matplotlib inline\n",
    "\n",
    "data_size = [50, 100, 200, 500, 1000, 2000, 5000, 8000, 10000, 50000, 80000, 100000]\n",
    "plot(data_size, random_time,label = 'random pivot')\n",
    "plot(data_size, median_time, label = 'median of medians pivot')\n",
    "plot(data_size, random_time, 'r*')\n",
    "plot(data_size, median_time, 'b+')\n",
    "legend(loc = 'best')\n",
    "xlabel('dataset size')\n",
    "ylabel('running time(s) per 100 loops')\n",
    "title('Performance on ordered datasets')\n",
    "grid()"
   ]
  },
  {
   "cell_type": "markdown",
   "metadata": {},
   "source": [
    "### Random datasets"
   ]
  },
  {
   "cell_type": "code",
   "execution_count": 146,
   "metadata": {},
   "outputs": [],
   "source": [
    "def random_measure(flag):\n",
    "    '''\n",
    "    Performance on ordered datasets.\n",
    "    when flag == 1, we measure select_random_pivot,\n",
    "    when flag == 0, we measure select_median_of_medians_pivot.\n",
    "    '''\n",
    "    \n",
    "    runtime = []\n",
    "    \n",
    "    # generate the datasets\n",
    "    data_size = [50, 100, 200, 500, 1000, 2000, 5000, 8000, 10000, 50000, 80000, 100000]\n",
    "    \n",
    "    for i in data_size:\n",
    "        data = list(500000*np.random.random(i))\n",
    "        if flag == 1:\n",
    "            tic = time.time()\n",
    "            k = random.randint(0, i + 1)\n",
    "            for j in range(100):\n",
    "                x = select_random_pivot(data, k)\n",
    "            toc = time.time()\n",
    "            runtime.append(toc - tic)\n",
    "            \n",
    "        elif flag == 0:\n",
    "            tic = time.time()\n",
    "            k = random.randint(0, i + 1)\n",
    "            for j in range(100):\n",
    "                x = select_median_of_medians_pivot(data, k)\n",
    "            toc = time.time()\n",
    "            runtime.append(toc - tic)\n",
    "            \n",
    "    return runtime"
   ]
  },
  {
   "cell_type": "code",
   "execution_count": 147,
   "metadata": {
    "scrolled": true
   },
   "outputs": [
    {
     "data": {
      "text/plain": [
       "[0.0,\n",
       " 0.006518840789794922,\n",
       " 0.01403498649597168,\n",
       " 0.042613983154296875,\n",
       " 0.08823466300964355,\n",
       " 0.14087462425231934,\n",
       " 0.25220441818237305,\n",
       " 0.3933427333831787,\n",
       " 0.46172571182250977,\n",
       " 2.392361640930176,\n",
       " 3.1057281494140625,\n",
       " 4.881023645401001]"
      ]
     },
     "execution_count": 147,
     "metadata": {},
     "output_type": "execute_result"
    }
   ],
   "source": [
    "rand_time = random_measure(1)\n",
    "rand_time"
   ]
  },
  {
   "cell_type": "code",
   "execution_count": 148,
   "metadata": {},
   "outputs": [],
   "source": [
    "mid_time = random_measure(0)"
   ]
  },
  {
   "cell_type": "code",
   "execution_count": 149,
   "metadata": {},
   "outputs": [
    {
     "data": {
      "image/png": "[encoded data removed]",
      "text/plain": [
       "<matplotlib.figure.Figure at 0x266e33bd6a0>"
      ]
     },
     "metadata": {},
     "output_type": "display_data"
    }
   ],
   "source": [
    "data_size = [50, 100, 200, 500, 1000, 2000, 5000, 8000, 10000, 50000, 80000, 100000]\n",
    "plot(data_size, rand_time,label = 'random pivot')\n",
    "plot(data_size, mid_time, label = 'median of medians pivot')\n",
    "plot(data_size, rand_time, 'r*')\n",
    "plot(data_size, mid_time, 'b+')\n",
    "legend(loc = 'best')\n",
    "xlabel('dataset size')\n",
    "ylabel('running time(s) per 100 loops')\n",
    "title('Performance on random datasets')\n",
    "grid()"
   ]
  },
  {
   "cell_type": "markdown",
   "metadata": {},
   "source": [
    "可以看出，两种算法基本都是线性的，所以我们验证了算法复杂度为 $O(n)$。\n",
    "\n",
    "可以看出，随机选取基准还要更快些。这是因为随机选取基准的情况已经很难出现所谓最坏情况了，在这样的前提下，BFBRT花费了更多的时间在选取基准上。因此这是可以理解的。\n",
    "\n",
    "再比较一下两种情况下的BFBRT的情况。"
   ]
  },
  {
   "cell_type": "code",
   "execution_count": 150,
   "metadata": {},
   "outputs": [
    {
     "data": {
      "image/png": "[encoded data removed]",
      "text/plain": [
       "<matplotlib.figure.Figure at 0x266e344d0f0>"
      ]
     },
     "metadata": {},
     "output_type": "display_data"
    }
   ],
   "source": [
    "plot(data_size, mid_time, label = 'random datasets')\n",
    "plot(data_size, mid_time, 'b+')\n",
    "plot(data_size, median_time, label = 'ordered datasets')\n",
    "plot(data_size, median_time, 'r*')\n",
    "legend(loc = 'best')\n",
    "xlabel('dataset size')\n",
    "ylabel('running time(s) per 100 loops')\n",
    "title('random/ordered datasets comparison')\n",
    "grid()"
   ]
  },
  {
   "cell_type": "markdown",
   "metadata": {},
   "source": [
    "两种情况差距不大，因此我们可以说，BFBRT已经解决了这个最坏情况的问题。"
   ]
  },
  {
   "cell_type": "markdown",
   "metadata": {},
   "source": [
    "## Conclusion"
   ]
  },
  {
   "cell_type": "markdown",
   "metadata": {},
   "source": [
    "1. BFBRT的最差情况也是 $O(n)$ 的，这是一个效率非常稳定的线性算法。\n",
    "2. BFBRT需要选取中位数的中位数时需要一些开销，因此在大多数情况下要比随机选取基准要慢；事实上，《算法导论》中提到，一些计算机科学家们给出了一个寻找中位数所需的比较次数的下界 $(2+\\epsilon)n$ 次，因此相对来说还是开销较大的。从另外一方面来说，它的实现也要比随机选取基准更加复杂。尽管随机选取的最坏情况仍然是 $O(n^2)$, 但这种情况发生的概率非常小。因此我认为，在大多数情况下，使用随机选取基准会是更好的选择。"
   ]
  }
 ],
 "metadata": {
  "kernelspec": {
   "display_name": "Python 3",
   "language": "python",
   "name": "python3"
  },
  "language_info": {
   "codemirror_mode": {
    "name": "ipython",
    "version": 3
   },
   "file_extension": ".py",
   "mimetype": "text/x-python",
   "name": "python",
   "nbconvert_exporter": "python",
   "pygments_lexer": "ipython3",
   "version": "3.6.2"
  }
 },
 "nbformat": 4,
 "nbformat_minor": 2
}
